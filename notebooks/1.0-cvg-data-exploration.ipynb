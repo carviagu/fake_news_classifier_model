{
 "cells": [
  {
   "cell_type": "markdown",
   "metadata": {},
   "source": [
    "<p align=\"center\">\n",
    "    <img width=210 height=150 src=\"../reports/figures/cunef_bw.png\">\n",
    "</p>"
   ]
  },
  {
   "cell_type": "markdown",
   "metadata": {},
   "source": [
    "<div>\n",
    "<h1>1.0 Initial Data Exploration (EDA) </h1>\n",
    "Fake News Classifier <br>\n",
    "<strong>Ciencia de Datos para la Información No Estructurada</strong> <br>\n",
    "<strong>Master Universidatio en Ciencia de Datos</strong>\n",
    "</div>"
   ]
  },
  {
   "cell_type": "markdown",
   "metadata": {},
   "source": [
    "<div style='text-align:right'>Carlos Viñals Guitart (<i>carlos.vinals@cunef.edu</i>)</div>"
   ]
  },
  {
   "cell_type": "markdown",
   "metadata": {},
   "source": [
    "---"
   ]
  },
  {
   "cell_type": "markdown",
   "metadata": {},
   "source": [
    "En este notebook nos centramos en entender y analizar los datos a utilizar para elaborar el modelo de detección de noticias falsas. Para ello procederemos a identificar las principales características del conjunto de datos y determinar como podemos utilizarlo y procesarlo para crear el modelo final. "
   ]
  },
  {
   "cell_type": "code",
   "execution_count": 1,
   "metadata": {},
   "outputs": [],
   "source": [
    "# Libraries\n",
    "import pandas as pd\n",
    "from matplotlib import pyplot as plt \n",
    "from sklearn.model_selection import train_test_split\n",
    "import re\n",
    "import string\n",
    "from sklearn import preprocessing\n",
    "import nltk\n",
    "from nltk.tokenize import word_tokenize\n",
    "from collections import Counter"
   ]
  },
  {
   "cell_type": "code",
   "execution_count": 2,
   "metadata": {},
   "outputs": [],
   "source": [
    "#nltk.download('punkt')\n",
    "#nltk.download('stopwords')"
   ]
  },
  {
   "cell_type": "markdown",
   "metadata": {},
   "source": [
    "### Lectura y análisis preliminar\n",
    "Procedemos a leer y visualizar los primeros cinco valores del dataset original a utilizar..."
   ]
  },
  {
   "cell_type": "code",
   "execution_count": 3,
   "metadata": {},
   "outputs": [],
   "source": [
    "# Data reading\n",
    "raw_data_df = pd.read_csv(\"../data/raw/fake_or_real_news.csv\")"
   ]
  },
  {
   "cell_type": "code",
   "execution_count": 4,
   "metadata": {},
   "outputs": [
    {
     "data": {
      "text/html": [
       "<div>\n",
       "<style scoped>\n",
       "    .dataframe tbody tr th:only-of-type {\n",
       "        vertical-align: middle;\n",
       "    }\n",
       "\n",
       "    .dataframe tbody tr th {\n",
       "        vertical-align: top;\n",
       "    }\n",
       "\n",
       "    .dataframe thead th {\n",
       "        text-align: right;\n",
       "    }\n",
       "</style>\n",
       "<table border=\"1\" class=\"dataframe\">\n",
       "  <thead>\n",
       "    <tr style=\"text-align: right;\">\n",
       "      <th></th>\n",
       "      <th>Unnamed: 0</th>\n",
       "      <th>title</th>\n",
       "      <th>text</th>\n",
       "      <th>label</th>\n",
       "    </tr>\n",
       "  </thead>\n",
       "  <tbody>\n",
       "    <tr>\n",
       "      <th>0</th>\n",
       "      <td>8476</td>\n",
       "      <td>You Can Smell Hillary’s Fear</td>\n",
       "      <td>Daniel Greenfield, a Shillman Journalism Fello...</td>\n",
       "      <td>FAKE</td>\n",
       "    </tr>\n",
       "    <tr>\n",
       "      <th>1</th>\n",
       "      <td>10294</td>\n",
       "      <td>Watch The Exact Moment Paul Ryan Committed Pol...</td>\n",
       "      <td>Google Pinterest Digg Linkedin Reddit Stumbleu...</td>\n",
       "      <td>FAKE</td>\n",
       "    </tr>\n",
       "    <tr>\n",
       "      <th>2</th>\n",
       "      <td>3608</td>\n",
       "      <td>Kerry to go to Paris in gesture of sympathy</td>\n",
       "      <td>U.S. Secretary of State John F. Kerry said Mon...</td>\n",
       "      <td>REAL</td>\n",
       "    </tr>\n",
       "    <tr>\n",
       "      <th>3</th>\n",
       "      <td>10142</td>\n",
       "      <td>Bernie supporters on Twitter erupt in anger ag...</td>\n",
       "      <td>— Kaydee King (@KaydeeKing) November 9, 2016 T...</td>\n",
       "      <td>FAKE</td>\n",
       "    </tr>\n",
       "    <tr>\n",
       "      <th>4</th>\n",
       "      <td>875</td>\n",
       "      <td>The Battle of New York: Why This Primary Matters</td>\n",
       "      <td>It's primary day in New York and front-runners...</td>\n",
       "      <td>REAL</td>\n",
       "    </tr>\n",
       "  </tbody>\n",
       "</table>\n",
       "</div>"
      ],
      "text/plain": [
       "   Unnamed: 0                                              title  \\\n",
       "0        8476                       You Can Smell Hillary’s Fear   \n",
       "1       10294  Watch The Exact Moment Paul Ryan Committed Pol...   \n",
       "2        3608        Kerry to go to Paris in gesture of sympathy   \n",
       "3       10142  Bernie supporters on Twitter erupt in anger ag...   \n",
       "4         875   The Battle of New York: Why This Primary Matters   \n",
       "\n",
       "                                                text label  \n",
       "0  Daniel Greenfield, a Shillman Journalism Fello...  FAKE  \n",
       "1  Google Pinterest Digg Linkedin Reddit Stumbleu...  FAKE  \n",
       "2  U.S. Secretary of State John F. Kerry said Mon...  REAL  \n",
       "3  — Kaydee King (@KaydeeKing) November 9, 2016 T...  FAKE  \n",
       "4  It's primary day in New York and front-runners...  REAL  "
      ]
     },
     "execution_count": 4,
     "metadata": {},
     "output_type": "execute_result"
    }
   ],
   "source": [
    "raw_data_df.head()"
   ]
  },
  {
   "cell_type": "markdown",
   "metadata": {},
   "source": [
    "Observamos que los datos se componen de 4 campos, cada registro posee un valor identificativo (id), el título de la noticia, el contenido del mismo y la etiqueta, es decir, nuestra variable objetivo que nos muestra si la noticia es verdadera o falsa.\n",
    "\n",
    "Procedemos a determinar las características sobre todo el conjunto de datos de la variable objetivo, centrándonos en su proproción en totat...\n",
    "\n",
    "Nos diseñamos una función para obtener un resumen de la composición del dataset"
   ]
  },
  {
   "cell_type": "code",
   "execution_count": 5,
   "metadata": {},
   "outputs": [],
   "source": [
    "def classes_overview(df = None, obj_val = \"\"):\n",
    "    '''\n",
    "    Devuelve un dataframe con el porcentaje y valor abosoluto de las clases de la variable objetivo.\n",
    "    :param df: Datase\n",
    "    :param obj_val: Variable objetivo\n",
    "    :return: Dataframe\n",
    "    '''\n",
    "    temp = df[obj_val].value_counts(normalize=True).mul(100).rename('percentaje').reset_index()\n",
    "    temp_conteo = df[obj_val].value_counts().reset_index()\n",
    "    return pd.merge(temp, temp_conteo, on=['index'], how='inner')"
   ]
  },
  {
   "cell_type": "code",
   "execution_count": 6,
   "metadata": {},
   "outputs": [
    {
     "data": {
      "text/html": [
       "<div>\n",
       "<style scoped>\n",
       "    .dataframe tbody tr th:only-of-type {\n",
       "        vertical-align: middle;\n",
       "    }\n",
       "\n",
       "    .dataframe tbody tr th {\n",
       "        vertical-align: top;\n",
       "    }\n",
       "\n",
       "    .dataframe thead th {\n",
       "        text-align: right;\n",
       "    }\n",
       "</style>\n",
       "<table border=\"1\" class=\"dataframe\">\n",
       "  <thead>\n",
       "    <tr style=\"text-align: right;\">\n",
       "      <th></th>\n",
       "      <th>index</th>\n",
       "      <th>percentaje</th>\n",
       "      <th>label</th>\n",
       "    </tr>\n",
       "  </thead>\n",
       "  <tbody>\n",
       "    <tr>\n",
       "      <th>0</th>\n",
       "      <td>REAL</td>\n",
       "      <td>50.055249</td>\n",
       "      <td>3171</td>\n",
       "    </tr>\n",
       "    <tr>\n",
       "      <th>1</th>\n",
       "      <td>FAKE</td>\n",
       "      <td>49.944751</td>\n",
       "      <td>3164</td>\n",
       "    </tr>\n",
       "  </tbody>\n",
       "</table>\n",
       "</div>"
      ],
      "text/plain": [
       "  index  percentaje  label\n",
       "0  REAL   50.055249   3171\n",
       "1  FAKE   49.944751   3164"
      ]
     },
     "execution_count": 6,
     "metadata": {},
     "output_type": "execute_result"
    }
   ],
   "source": [
    "classes_overview(raw_data_df, 'label')"
   ]
  },
  {
   "cell_type": "markdown",
   "metadata": {},
   "source": [
    "Observamos como la proporción de los datos es bastante equilibrada, lo que simplifica bastante la tarea de división del dataset a no ser necesario tener en cuenta una desequelibrio a la hora de entrenar el modelo.\n",
    "\n",
    "### División de train y test\n",
    "\n",
    "Previamente a continuar con el análisis vamos a realizar la division de los datos en muestra de train (entrenamiento) y test..."
   ]
  },
  {
   "cell_type": "code",
   "execution_count": 7,
   "metadata": {},
   "outputs": [],
   "source": [
    "# We divide values of the target label and the rest of data\n",
    "X = raw_data_df.drop('label', axis=1)\n",
    "Y = raw_data_df['label']\n",
    "\n",
    "# We make the split between train and test\n",
    "X_train, X_test, Y_train, Y_test = train_test_split(X, Y, test_size=0.15, random_state=1234, stratify=Y)\n",
    "\n",
    "# We save the original data divided\n",
    "train_data_df = X_train\n",
    "train_data_df['label'] = Y_train\n",
    "train_data_df.to_csv(\"../data/interim/train.csv\")\n",
    "\n",
    "test_data_df = X_test\n",
    "test_data_df['label'] = Y_test\n",
    "test_data_df.to_csv(\"../data/interim/test.csv\")\n"
   ]
  },
  {
   "cell_type": "markdown",
   "metadata": {},
   "source": [
    "### Análisis detallado de los datos\n",
    "Una vez realizada la separación procedemos a realizar el análisi de los datos. Nos centramos únicamente en la muestra de entrenamiento (train)."
   ]
  },
  {
   "cell_type": "code",
   "execution_count": 8,
   "metadata": {},
   "outputs": [
    {
     "name": "stdout",
     "output_type": "stream",
     "text": [
      "Total de muestras del dataset:  5384\n"
     ]
    }
   ],
   "source": [
    "print('Total de muestras del dataset: ', len(train_data_df.index))"
   ]
  },
  {
   "cell_type": "markdown",
   "metadata": {},
   "source": [
    "Tenemos un total de 5384 muestras, vamos a verificar que el balanceo del dataset es adecuado otra vez después de la división de train y test..."
   ]
  },
  {
   "cell_type": "code",
   "execution_count": 9,
   "metadata": {},
   "outputs": [
    {
     "data": {
      "text/html": [
       "<div>\n",
       "<style scoped>\n",
       "    .dataframe tbody tr th:only-of-type {\n",
       "        vertical-align: middle;\n",
       "    }\n",
       "\n",
       "    .dataframe tbody tr th {\n",
       "        vertical-align: top;\n",
       "    }\n",
       "\n",
       "    .dataframe thead th {\n",
       "        text-align: right;\n",
       "    }\n",
       "</style>\n",
       "<table border=\"1\" class=\"dataframe\">\n",
       "  <thead>\n",
       "    <tr style=\"text-align: right;\">\n",
       "      <th></th>\n",
       "      <th>index</th>\n",
       "      <th>percentaje</th>\n",
       "      <th>label</th>\n",
       "    </tr>\n",
       "  </thead>\n",
       "  <tbody>\n",
       "    <tr>\n",
       "      <th>0</th>\n",
       "      <td>REAL</td>\n",
       "      <td>50.055721</td>\n",
       "      <td>2695</td>\n",
       "    </tr>\n",
       "    <tr>\n",
       "      <th>1</th>\n",
       "      <td>FAKE</td>\n",
       "      <td>49.944279</td>\n",
       "      <td>2689</td>\n",
       "    </tr>\n",
       "  </tbody>\n",
       "</table>\n",
       "</div>"
      ],
      "text/plain": [
       "  index  percentaje  label\n",
       "0  REAL   50.055721   2695\n",
       "1  FAKE   49.944279   2689"
      ]
     },
     "execution_count": 9,
     "metadata": {},
     "output_type": "execute_result"
    }
   ],
   "source": [
    "# We check the balance of the dataset again to be sure the balance is correct\n",
    "classes_overview(train_data_df, 'label')"
   ]
  },
  {
   "cell_type": "markdown",
   "metadata": {},
   "source": [
    "Observamos que el buen balanceo del dataset se mantiene, teniende un 50% para noticias reales y otro 50% de noticias falsas aproximadamente. Ahora nos centramos en distintos aspectos a evaluar.\n",
    "\n",
    "**Primero**. Comprobamos que no hay valores nulos..."
   ]
  },
  {
   "cell_type": "code",
   "execution_count": 10,
   "metadata": {},
   "outputs": [
    {
     "data": {
      "text/html": [
       "<div>\n",
       "<style scoped>\n",
       "    .dataframe tbody tr th:only-of-type {\n",
       "        vertical-align: middle;\n",
       "    }\n",
       "\n",
       "    .dataframe tbody tr th {\n",
       "        vertical-align: top;\n",
       "    }\n",
       "\n",
       "    .dataframe thead th {\n",
       "        text-align: right;\n",
       "    }\n",
       "</style>\n",
       "<table border=\"1\" class=\"dataframe\">\n",
       "  <thead>\n",
       "    <tr style=\"text-align: right;\">\n",
       "      <th></th>\n",
       "      <th>column_name</th>\n",
       "      <th>NAs</th>\n",
       "    </tr>\n",
       "  </thead>\n",
       "  <tbody>\n",
       "    <tr>\n",
       "      <th>0</th>\n",
       "      <td>Unnamed: 0</td>\n",
       "      <td>0</td>\n",
       "    </tr>\n",
       "    <tr>\n",
       "      <th>1</th>\n",
       "      <td>title</td>\n",
       "      <td>0</td>\n",
       "    </tr>\n",
       "    <tr>\n",
       "      <th>2</th>\n",
       "      <td>text</td>\n",
       "      <td>0</td>\n",
       "    </tr>\n",
       "    <tr>\n",
       "      <th>3</th>\n",
       "      <td>label</td>\n",
       "      <td>0</td>\n",
       "    </tr>\n",
       "  </tbody>\n",
       "</table>\n",
       "</div>"
      ],
      "text/plain": [
       "  column_name  NAs\n",
       "0  Unnamed: 0    0\n",
       "1       title    0\n",
       "2        text    0\n",
       "3       label    0"
      ]
     },
     "execution_count": 10,
     "metadata": {},
     "output_type": "execute_result"
    }
   ],
   "source": [
    "# We check the existance of anomalies in the data like NULL values\n",
    "temp_df = train_data_df.isnull().sum().reset_index()\n",
    "temp_df.columns = ['column_name', 'NAs']\n",
    "temp_df"
   ]
  },
  {
   "cell_type": "markdown",
   "metadata": {},
   "source": [
    "Observamos que no existen valores nulos en los datos, por lo que no es necesario eliminar o tratar estos. \n",
    "\n",
    "**Segundo**. Comprobamos si pueden existir noticias repetidas..."
   ]
  },
  {
   "cell_type": "code",
   "execution_count": 11,
   "metadata": {},
   "outputs": [
    {
     "data": {
      "text/plain": [
       "0"
      ]
     },
     "execution_count": 11,
     "metadata": {},
     "output_type": "execute_result"
    }
   ],
   "source": [
    "# We check any duplicates\n",
    "sum(train_data_df.duplicated())"
   ]
  },
  {
   "cell_type": "markdown",
   "metadata": {},
   "source": [
    "Observamos que no hay noticias repetidas en los datos y contamos con noticias diferentes para poder entrenar."
   ]
  },
  {
   "cell_type": "markdown",
   "metadata": {},
   "source": [
    "### Procesado\n",
    "Realizamos un primer procesado de los datos con el objetivo de poder realizar más análisis y a la vez preparar los datos para el modelado. "
   ]
  },
  {
   "cell_type": "markdown",
   "metadata": {},
   "source": [
    "Comenzaremos con la variable objetivo, la etiqueta de noticia falsa y verdadera. Haremos uso de un encoding de etiquetas: Label Encoding, esto sustituirá FAKE por 0 y REAL por 1"
   ]
  },
  {
   "cell_type": "code",
   "execution_count": 12,
   "metadata": {},
   "outputs": [
    {
     "name": "stdout",
     "output_type": "stream",
     "text": [
      "['FAKE' 'REAL']\n"
     ]
    }
   ],
   "source": [
    "lb = preprocessing.LabelEncoder()\n",
    "train_data_df['label'] = lb.fit_transform(train_data_df['label'])\n",
    "print(lb.classes_)\n",
    "\n",
    "# Repeat encoding for test sample\n",
    "test_data_df['label'] = lb.transform(test_data_df['label'])"
   ]
  },
  {
   "cell_type": "code",
   "execution_count": 13,
   "metadata": {},
   "outputs": [
    {
     "data": {
      "text/html": [
       "<div>\n",
       "<style scoped>\n",
       "    .dataframe tbody tr th:only-of-type {\n",
       "        vertical-align: middle;\n",
       "    }\n",
       "\n",
       "    .dataframe tbody tr th {\n",
       "        vertical-align: top;\n",
       "    }\n",
       "\n",
       "    .dataframe thead th {\n",
       "        text-align: right;\n",
       "    }\n",
       "</style>\n",
       "<table border=\"1\" class=\"dataframe\">\n",
       "  <thead>\n",
       "    <tr style=\"text-align: right;\">\n",
       "      <th></th>\n",
       "      <th>Unnamed: 0</th>\n",
       "      <th>title</th>\n",
       "      <th>text</th>\n",
       "      <th>label</th>\n",
       "    </tr>\n",
       "  </thead>\n",
       "  <tbody>\n",
       "    <tr>\n",
       "      <th>1342</th>\n",
       "      <td>8196</td>\n",
       "      <td>Voter Dreading Being Sent Over To Visibly Stup...</td>\n",
       "      <td>Trump Raises Concern Over Members Of Urban Com...</td>\n",
       "      <td>0</td>\n",
       "    </tr>\n",
       "    <tr>\n",
       "      <th>1251</th>\n",
       "      <td>30</td>\n",
       "      <td>Abortion bill dropped amid concerns of female ...</td>\n",
       "      <td>This item has been updated.\\n\\nHouse Republica...</td>\n",
       "      <td>1</td>\n",
       "    </tr>\n",
       "    <tr>\n",
       "      <th>804</th>\n",
       "      <td>7216</td>\n",
       "      <td>Internet Is On Fire With Speculation That Pode...</td>\n",
       "      <td>We Are Change \\nEmails revealed by Wikileaks f...</td>\n",
       "      <td>0</td>\n",
       "    </tr>\n",
       "    <tr>\n",
       "      <th>47</th>\n",
       "      <td>587</td>\n",
       "      <td>Senate race rankings: Dems attack as GOP lays ...</td>\n",
       "      <td>The move would make it easier for the Trump ad...</td>\n",
       "      <td>1</td>\n",
       "    </tr>\n",
       "    <tr>\n",
       "      <th>3888</th>\n",
       "      <td>103</td>\n",
       "      <td>Starbucks baristas stop writing 'Race Together...</td>\n",
       "      <td>In a marketing fiasco that could rank right up...</td>\n",
       "      <td>1</td>\n",
       "    </tr>\n",
       "    <tr>\n",
       "      <th>...</th>\n",
       "      <td>...</td>\n",
       "      <td>...</td>\n",
       "      <td>...</td>\n",
       "      <td>...</td>\n",
       "    </tr>\n",
       "    <tr>\n",
       "      <th>502</th>\n",
       "      <td>1118</td>\n",
       "      <td>Romney's timely Trump trolling</td>\n",
       "      <td>**Want FOX News First in your inbox every day?...</td>\n",
       "      <td>1</td>\n",
       "    </tr>\n",
       "    <tr>\n",
       "      <th>2824</th>\n",
       "      <td>4423</td>\n",
       "      <td>Megyn Kelly interrogates Tom Cotton on Iran le...</td>\n",
       "      <td>On Monday, Cotton drafted a letter — signed by...</td>\n",
       "      <td>1</td>\n",
       "    </tr>\n",
       "    <tr>\n",
       "      <th>1768</th>\n",
       "      <td>9347</td>\n",
       "      <td>CONTROVERSIAL NEW ‘ANTI-FAMINE’ GMO POTATO STR...</td>\n",
       "      <td>Home › HEALTH | US NEWS › CONTROVERSIAL NEW ‘A...</td>\n",
       "      <td>0</td>\n",
       "    </tr>\n",
       "    <tr>\n",
       "      <th>4116</th>\n",
       "      <td>6239</td>\n",
       "      <td>Meter Reader Knocks On Man’s Door, Reveals Sin...</td>\n",
       "      <td>Share This \\nWhen a man heard a knock on his d...</td>\n",
       "      <td>0</td>\n",
       "    </tr>\n",
       "    <tr>\n",
       "      <th>4944</th>\n",
       "      <td>9843</td>\n",
       "      <td>‘On Contact’: Chris Hedges and Medea Benjamin ...</td>\n",
       "      <td>‘On Contact’: Chris Hedges and Medea Benjamin ...</td>\n",
       "      <td>0</td>\n",
       "    </tr>\n",
       "  </tbody>\n",
       "</table>\n",
       "<p>5384 rows × 4 columns</p>\n",
       "</div>"
      ],
      "text/plain": [
       "      Unnamed: 0                                              title  \\\n",
       "1342        8196  Voter Dreading Being Sent Over To Visibly Stup...   \n",
       "1251          30  Abortion bill dropped amid concerns of female ...   \n",
       "804         7216  Internet Is On Fire With Speculation That Pode...   \n",
       "47           587  Senate race rankings: Dems attack as GOP lays ...   \n",
       "3888         103  Starbucks baristas stop writing 'Race Together...   \n",
       "...          ...                                                ...   \n",
       "502         1118                     Romney's timely Trump trolling   \n",
       "2824        4423  Megyn Kelly interrogates Tom Cotton on Iran le...   \n",
       "1768        9347  CONTROVERSIAL NEW ‘ANTI-FAMINE’ GMO POTATO STR...   \n",
       "4116        6239  Meter Reader Knocks On Man’s Door, Reveals Sin...   \n",
       "4944        9843  ‘On Contact’: Chris Hedges and Medea Benjamin ...   \n",
       "\n",
       "                                                   text  label  \n",
       "1342  Trump Raises Concern Over Members Of Urban Com...      0  \n",
       "1251  This item has been updated.\\n\\nHouse Republica...      1  \n",
       "804   We Are Change \\nEmails revealed by Wikileaks f...      0  \n",
       "47    The move would make it easier for the Trump ad...      1  \n",
       "3888  In a marketing fiasco that could rank right up...      1  \n",
       "...                                                 ...    ...  \n",
       "502   **Want FOX News First in your inbox every day?...      1  \n",
       "2824  On Monday, Cotton drafted a letter — signed by...      1  \n",
       "1768  Home › HEALTH | US NEWS › CONTROVERSIAL NEW ‘A...      0  \n",
       "4116  Share This \\nWhen a man heard a knock on his d...      0  \n",
       "4944  ‘On Contact’: Chris Hedges and Medea Benjamin ...      0  \n",
       "\n",
       "[5384 rows x 4 columns]"
      ]
     },
     "execution_count": 13,
     "metadata": {},
     "output_type": "execute_result"
    }
   ],
   "source": [
    "train_data_df"
   ]
  },
  {
   "cell_type": "markdown",
   "metadata": {},
   "source": [
    "Ahora procedemos a limpiar los títulos y textos de las noticias, observamos en un primer vistazo varios signos de puntuación, símbolos y otros signos utilizados para indicar espacios en programación (ej. \\n), procedemos a homgeneizar los datos a minusculas, eliminando espacios, sustituyendo puntuaciones mediante el uso de traducciones y expresiones regulares."
   ]
  },
  {
   "cell_type": "code",
   "execution_count": 14,
   "metadata": {},
   "outputs": [],
   "source": [
    "translator = str.maketrans('', '', string.punctuation)\n",
    "train_data_df['proc_title'] = train_data_df.title.map(lambda x : re.sub(r\"[^a-zA-Z0-9]\", \" \",x.strip().lower().translate(translator)))\n",
    "train_data_df['proc_text'] = train_data_df.text.map(lambda x : re.sub(r\"[^a-zA-Z0-9]\", \" \",x.strip().lower().translate(translator)))\n",
    "\n",
    "test_data_df['proc_title'] = test_data_df.title.map(lambda x : re.sub(r\"[^a-zA-Z0-9]\", \" \",x.strip().lower().translate(translator)))\n",
    "test_data_df['proc_text'] = test_data_df.text.map(lambda x : re.sub(r\"[^a-zA-Z0-9]\", \" \",x.strip().lower().translate(translator)))"
   ]
  },
  {
   "cell_type": "code",
   "execution_count": 15,
   "metadata": {},
   "outputs": [
    {
     "data": {
      "text/plain": [
       "1342    voter dreading being sent over to visibly stup...\n",
       "1251    abortion bill dropped amid concerns of female ...\n",
       "804     internet is on fire with speculation that pode...\n",
       "47      senate race rankings dems attack as gop lays s...\n",
       "3888    starbucks baristas stop writing race together ...\n",
       "                              ...                        \n",
       "502                         romneys timely trump trolling\n",
       "2824    megyn kelly interrogates tom cotton on iran le...\n",
       "1768    controversial new  antifamine  gmo potato stra...\n",
       "4116    meter reader knocks on man s door reveals sini...\n",
       "4944     on contact  chris hedges and medea benjamin o...\n",
       "Name: proc_title, Length: 5384, dtype: object"
      ]
     },
     "execution_count": 15,
     "metadata": {},
     "output_type": "execute_result"
    }
   ],
   "source": [
    "train_data_df['proc_title']"
   ]
  },
  {
   "cell_type": "markdown",
   "metadata": {},
   "source": [
    "Una vez limpiado el texto vamos realizar un análisis de las palabras contenidas para determinar relaciones y visualizar aspectos interesantes y comunes según la variable objetivo. Primero lo haremos con los títulos de las noticias..."
   ]
  },
  {
   "cell_type": "code",
   "execution_count": 16,
   "metadata": {},
   "outputs": [],
   "source": [
    "corpus_fake = ' '.join(train_data_df[train_data_df['label'] == 0].proc_title)\n",
    "all_words_fake = word_tokenize(corpus_fake)\n",
    "corpus_true = ' '.join(train_data_df[train_data_df['label'] == 1].proc_title)\n",
    "all_words_true = word_tokenize(corpus_true)\n",
    "\n",
    "# Cleaning all stopwords\n",
    "stopwords = nltk.corpus.stopwords.words('english')\n",
    "all_words_fake = [word for word in all_words_fake if word not in stopwords]\n",
    "all_words_true = [word for word in all_words_true if word not in stopwords]"
   ]
  },
  {
   "cell_type": "markdown",
   "metadata": {},
   "source": [
    "Veamos que palabras son más comunes en cada caso..."
   ]
  },
  {
   "cell_type": "code",
   "execution_count": 17,
   "metadata": {},
   "outputs": [
    {
     "data": {
      "image/png": "[encoded data removed]",
      "text/plain": [
       "<Figure size 720x720 with 2 Axes>"
      ]
     },
     "metadata": {
      "needs_background": "light"
     },
     "output_type": "display_data"
    }
   ],
   "source": [
    "fig, axes = plt.subplots(1, 2, figsize=(10, 10), sharey=False)\n",
    "ax1 = pd.Series(Counter(all_words_fake)).sort_values(ascending=False).iloc[:30].plot(kind=\"bar\", ax=axes[0]);\n",
    "ax1.title.set_text(\"Fake News Top 30 words by title\")\n",
    "ax2 = pd.Series(Counter(all_words_true)).sort_values(ascending=False).iloc[:30].plot(kind=\"bar\", ax=axes[1]);\n",
    "ax2.title.set_text(\"True News Top 30 words by title\")"
   ]
  },
  {
   "cell_type": "markdown",
   "metadata": {},
   "source": [
    "Observamos como existen varias palabras comunes en ambos tipos de noticias, sin embargo tienen distinta frecuencia de aparición según el tipo de noticia. Por otro lado al ser noticias de misma tipología no resulta extraña esta similitud. \n",
    "\n",
    "Veamos por otro lado las longitudes de los títulos..."
   ]
  },
  {
   "cell_type": "code",
   "execution_count": 18,
   "metadata": {},
   "outputs": [
    {
     "data": {
      "image/png": "[encoded data removed]",
      "text/plain": [
       "<Figure size 432x288 with 1 Axes>"
      ]
     },
     "metadata": {
      "needs_background": "light"
     },
     "output_type": "display_data"
    }
   ],
   "source": [
    "titles_len = [len(i.split()) for i in train_data_df['proc_title']]\n",
    "\n",
    "pd.Series(titles_len).hist(bins = 60);\n",
    "plt.xlabel('Number of Words');\n",
    "plt.ylabel('Number of Texts');"
   ]
  },
  {
   "cell_type": "markdown",
   "metadata": {},
   "source": [
    "Ahora repetiremos este análisis con el contenido de las noticias..."
   ]
  },
  {
   "cell_type": "code",
   "execution_count": 19,
   "metadata": {},
   "outputs": [
    {
     "data": {
      "image/png": "[encoded data removed]",
      "text/plain": [
       "<Figure size 720x720 with 2 Axes>"
      ]
     },
     "metadata": {
      "needs_background": "light"
     },
     "output_type": "display_data"
    }
   ],
   "source": [
    "corpus_fake = ' '.join(train_data_df[train_data_df['label'] == 0].proc_text)\n",
    "all_words_fake = word_tokenize(corpus_fake)\n",
    "corpus_true = ' '.join(train_data_df[train_data_df['label'] == 1].proc_text)\n",
    "all_words_true = word_tokenize(corpus_true)\n",
    "\n",
    "# Cleaning all stopwords\n",
    "stopwords = nltk.corpus.stopwords.words('english')\n",
    "all_words_fake = [word for word in all_words_fake if word not in stopwords]\n",
    "all_words_true = [word for word in all_words_true if word not in stopwords]\n",
    "\n",
    "fig, axes = plt.subplots(1, 2, figsize=(10, 10), sharey=False)\n",
    "ax1 = pd.Series(Counter(all_words_fake)).sort_values(ascending=False).iloc[:30].plot(kind=\"bar\", ax=axes[0]);\n",
    "ax1.title.set_text(\"Fake News Top 30 words by content\")\n",
    "ax2 = pd.Series(Counter(all_words_true)).sort_values(ascending=False).iloc[:30].plot(kind=\"bar\", ax=axes[1]);\n",
    "ax2.title.set_text(\"True News Top 30 words by content\")"
   ]
  },
  {
   "cell_type": "markdown",
   "metadata": {},
   "source": [
    "Podemos observar como las palabras son bastante comunes en ambos casos, siendo las primeras ocurrencias casi iguales a las de los títulos. "
   ]
  },
  {
   "cell_type": "markdown",
   "metadata": {},
   "source": [
    "---"
   ]
  },
  {
   "cell_type": "markdown",
   "metadata": {},
   "source": [
    "<div style='text-align:center'> Elaborado por Carlos Viñals Guitart (<i>carlos.vinals@cunef.edu</i>)</div>"
   ]
  }
 ],
 "metadata": {
  "interpreter": {
   "hash": "f1b0e8bbc88a261065f26bec277b9f0d9faa7a870c0372a7de203d51fc1277e9"
  },
  "kernelspec": {
   "display_name": "Python 3.8.8 ('base')",
   "language": "python",
   "name": "python3"
  },
  "language_info": {
   "codemirror_mode": {
    "name": "ipython",
    "version": 3
   },
   "file_extension": ".py",
   "mimetype": "text/x-python",
   "name": "python",
   "nbconvert_exporter": "python",
   "pygments_lexer": "ipython3",
   "version": "3.9.11"
  },
  "orig_nbformat": 4
 },
 "nbformat": 4,
 "nbformat_minor": 2
}
